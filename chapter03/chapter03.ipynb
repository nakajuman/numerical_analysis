{
 "cells": [
  {
   "cell_type": "code",
   "execution_count": null,
   "id": "3c9110bf",
   "metadata": {},
   "outputs": [],
   "source": [
    "import numpy as np\n",
    "import matplotlib.pylab as plt\n",
    "%matplotlib inline\n",
    "%config InlineBackend.figure_format='retina'"
   ]
  },
  {
   "cell_type": "markdown",
   "id": "4b9d9f5f",
   "metadata": {},
   "source": [
    "# Chapter 3. Interpolation and Polynomial Approximation\n",
    "## 3.1 Interpolation and the Lagrange Polynomial"
   ]
  },
  {
   "cell_type": "markdown",
   "id": "8403c14e",
   "metadata": {},
   "source": [
    "### Theorem 3.2\n",
    "\n",
    "If $x_0,\\ x_1,\\ \\cdots,\\ x_n$ are $n+1$ distinct numbers and $f$ is a function whose values are given at these numbers, then a unique polynomial $P(x)$ of degree at most $n$ exists with\n",
    "$$f(x_k) = P(x_k),\\qquad \\text{for each}\\ k = 0,1,\\cdots,n.$$\t\n",
    "This polynomial is given by\n",
    "$$P(x) = f(x_0) L_{n,0}(x) + \\cdots + f(x_n) L_{n,n}(x) = \\sum_{k=0}^n f(x_k) L_{n,k}(x),$$\n",
    "where, for each $k=0,1,\\cdots,n$,\n",
    "$$L_{n,k}(x) = \\frac{(x-x_0)(x-x_1)\\cdots(x-x_{k-1})(x-x_{k+1})\\cdots(x-x_n)}{(x_k-x_0)(x_k-x_1)\\cdots(x_k-x_{k-1})(x_k-x_{k+1})\\cdots(x_k-x_n)} = \\prod_{\\substack{i=0\\\\ i\\neq k}}^n \\frac{(x-x_i)}{(x_k - x_i)}.$$"
   ]
  },
  {
   "cell_type": "markdown",
   "id": "acfd2e26",
   "metadata": {},
   "source": [
    "### Q1: Write the appropriate code for the 'None' position.\n",
    "(Hint: See the last equation in the above theorem)"
   ]
  },
  {
   "cell_type": "code",
   "execution_count": null,
   "id": "f70c1058",
   "metadata": {},
   "outputs": [],
   "source": [
    "def Lagrange_polynomial(t,x,fval):\n",
    "    n = x.shape[0]\n",
    "    L = np.ones(n)\n",
    "    for i in range(0,n):\n",
    "        for j in range(0,n):\n",
    "            if i!=j:\n",
    "                L[i] *= None\n",
    "    val = np.sum(L*fval)\n",
    "    return val     "
   ]
  },
  {
   "cell_type": "markdown",
   "id": "24577aef",
   "metadata": {},
   "source": [
    "### Example 2\n",
    "Use the numbers (called nodes) $x_0 = 2,\\ x_1 = 2.75$, and $x_2 = 4$ to find the second Lagrange interpolating polynomial for $f(x) = 1/x$ and approximate $f(3) = 1/3$."
   ]
  },
  {
   "cell_type": "code",
   "execution_count": null,
   "id": "aa722c66",
   "metadata": {},
   "outputs": [],
   "source": [
    "x = np.array([2, 2.75, 4])\n",
    "fval = 1/x\n",
    "t = 3\n",
    "val = Lagrange_polynomial(t,x,fval)\n",
    "print(val)"
   ]
  },
  {
   "cell_type": "markdown",
   "id": "7854cc35",
   "metadata": {},
   "source": [
    "ans\n",
    "```\n",
    "0.3295454545454546\n",
    "```"
   ]
  },
  {
   "cell_type": "code",
   "execution_count": null,
   "id": "cca37efb",
   "metadata": {},
   "outputs": [],
   "source": [
    "t = np.linspace(0.2,5.2,200)\n",
    "val = np.zeros_like(t)\n",
    "for j in range(len(t)):\n",
    "    val[j] = Lagrange_polynomial(t[j],x,fval)"
   ]
  },
  {
   "cell_type": "code",
   "execution_count": null,
   "id": "52d99350",
   "metadata": {},
   "outputs": [],
   "source": [
    "plt.figure(figsize=(12,10))\n",
    "plt.plot(t,1/t, label = '$y = 1/x$')\n",
    "plt.plot(t,val, label = 'Lagrange Interpolating Polynomial')\n",
    "plt.plot(x,1/x,'o')\n",
    "plt.legend()\n",
    "plt.title('Lagrange Interpolating Polynomial with $x_0$ = {}, $x_1$ = {}, and $x_2$ = {}'.format(x[0],x[1],x[2]))"
   ]
  },
  {
   "cell_type": "markdown",
   "id": "c4ffdb81",
   "metadata": {},
   "source": [
    "ans\n",
    "```\n",
    "Text(0.5, 1.0, 'Lagrange Interpolating Polynomial with $x_0$ = 2.0, $x_1$ = 2.75, and $x_2$ = 4.0')\n",
    "```\n",
    "<img src=\"https://github.com/dw-shin/numerical_analysis/blob/main/chapter03/figures/lagrange_result.png?raw=true\" width=\"700\"/>"
   ]
  },
  {
   "cell_type": "markdown",
   "id": "665ac2f2",
   "metadata": {},
   "source": [
    "## 3.5 Cubic Spline Interpolation\n",
    "### Natural Cubic Spline"
   ]
  },
  {
   "cell_type": "markdown",
   "id": "0e6c8c4e",
   "metadata": {},
   "source": [
    "<img src=\"https://github.com/dw-shin/numerical_analysis/blob/main/chapter03/figures/natural_cubic.png?raw=true\" width=\"900\"/>"
   ]
  },
  {
   "cell_type": "markdown",
   "id": "3d418916",
   "metadata": {},
   "source": [
    "### Q2: Complete the following code."
   ]
  },
  {
   "cell_type": "code",
   "execution_count": null,
   "id": "06ddea97",
   "metadata": {},
   "outputs": [],
   "source": [
    "def natural_cubic_spline(n,x,fval):\n",
    "    a = fval\n",
    "    b = np.zeros(n)\n",
    "    c = np.zeros(n+1)\n",
    "    d = np.zeros(n)\n",
    "    h = np.zeros(n)\n",
    "    l = np.zeros(n+1)\n",
    "    mu = np.zeros(n)\n",
    "    z = np.zeros(n+1)\n",
    "    alpha = np.zeros(n)\n",
    "    # Step 1\n",
    "    for i in range(n):\n",
    "        \n",
    "    # Step 2\n",
    "    for i in range(1,n):\n",
    "        \n",
    "    # Step 3\n",
    "    \n",
    "    # Step 4\n",
    "    for i in range(1,n):\n",
    "        \n",
    "    # Step 5\n",
    "    \n",
    "    # Step 6\n",
    "    for j in reversed(range(n)):\n",
    "        \n",
    "    return (a,b,c,d)"
   ]
  },
  {
   "cell_type": "markdown",
   "id": "971ab090",
   "metadata": {},
   "source": [
    "### Example 2\n",
    "Use the data points $(0,1),\\ (1,e),\\ (2,e^2)$, and $(3,e^3)$ to form a natural spline $S(x)$ that approximates $f(x) = e^x$.\t"
   ]
  },
  {
   "cell_type": "code",
   "execution_count": null,
   "id": "c5ba7887",
   "metadata": {},
   "outputs": [],
   "source": [
    "n = 3\n",
    "x = np.array([0,1,2,3])\n",
    "fval = np.exp(x)"
   ]
  },
  {
   "cell_type": "code",
   "execution_count": null,
   "id": "57f3af9b",
   "metadata": {},
   "outputs": [],
   "source": [
    "a,b,c,d = natural_cubic_spline(n,x,fval)\n",
    "print('a = \\n', a)\n",
    "print('b = \\n', b)\n",
    "print('c = \\n', c)\n",
    "print('d = \\n', d)"
   ]
  },
  {
   "cell_type": "markdown",
   "id": "c18e332a",
   "metadata": {},
   "source": [
    "ans\n",
    "```\n",
    "a = \n",
    " [ 1.          2.71828183  7.3890561  20.08553692]\n",
    "b = \n",
    " [1.46599761 2.22285026 8.80976965]\n",
    "c = \n",
    " [0.         0.75685264 5.83006675 0.        ]\n",
    "d = \n",
    " [ 0.25228421  1.69107137 -1.94335558]\n",
    "```"
   ]
  },
  {
   "cell_type": "code",
   "execution_count": null,
   "id": "3ff448e4",
   "metadata": {},
   "outputs": [],
   "source": [
    "def evaluate_cubic_spline(nodes,x,a,b,c,d):\n",
    "    val = np.zeros_like(nodes)\n",
    "    for i in range(len(x)-1):\n",
    "        ind = (nodes >= x[i]) & (nodes <= x[i+1])\n",
    "        xx = nodes[ind]\n",
    "        val[ind] = a[i] + b[i]*(xx - x[i]) + c[i]*(xx-x[i])**2 + d[i]*(xx-x[i])**3\n",
    "    return val"
   ]
  },
  {
   "cell_type": "code",
   "execution_count": null,
   "id": "70d04cfe",
   "metadata": {},
   "outputs": [],
   "source": [
    "nodes = np.linspace(0,3)\n",
    "fval = evaluate_cubic_spline(nodes,x,a,b,c,d)"
   ]
  },
  {
   "cell_type": "code",
   "execution_count": null,
   "id": "ede22451",
   "metadata": {},
   "outputs": [],
   "source": [
    "plt.figure(figsize=(12,10))\n",
    "plt.plot(nodes,np.exp(nodes), label = '$y = e^x$')\n",
    "plt.plot(nodes,fval, label = 'Natural cubic spline')\n",
    "plt.plot(x,np.exp(x),'o')\n",
    "plt.legend()\n",
    "plt.title('Natural Cubic Spline with n = {}'.format(n))"
   ]
  },
  {
   "cell_type": "markdown",
   "id": "1c95ea7d",
   "metadata": {},
   "source": [
    "ans\n",
    "```\n",
    "Text(0.5, 1.0, 'Lagrange Interpolating Polynomial with $x_0$ = 2.0, $x_1$ = 2.75, and $x_2$ = 4.0')\n",
    "```\n",
    "<img src=\"https://github.com/dw-shin/numerical_analysis/blob/main/chapter03/figures/natural_spline_result.png?raw=true\" width=\"700\"/>"
   ]
  },
  {
   "cell_type": "code",
   "execution_count": null,
   "id": "0bf79d47",
   "metadata": {},
   "outputs": [],
   "source": [
    "x = np.array([0,0.5,1,1.5,2,2.5,3])\n",
    "n = len(x)-1\n",
    "fval = np.exp(x)"
   ]
  },
  {
   "cell_type": "code",
   "execution_count": null,
   "id": "c4856134",
   "metadata": {},
   "outputs": [],
   "source": [
    "a,b,c,d = natural_cubic_spline(n,x,fval)\n",
    "nodes = np.linspace(0,3)\n",
    "fval = evaluate_cubic_spline(nodes,x,a,b,c,d)\n",
    "plt.figure(figsize=(12,10))\n",
    "plt.plot(nodes,np.exp(nodes), label = '$y = e^x$')\n",
    "plt.plot(nodes,fval, label = 'Natural cubic spline')\n",
    "plt.plot(x,np.exp(x),'o')\n",
    "plt.legend()\n",
    "plt.title('Natural Cubic Spline with n = {}'.format(n))"
   ]
  },
  {
   "cell_type": "markdown",
   "id": "2435f396",
   "metadata": {},
   "source": [
    "ans\n",
    "```\n",
    "Text(0.5, 1.0, 'Natural Cubic Spline with n = 6')\n",
    "```\n",
    "<img src=\"https://github.com/dw-shin/numerical_analysis/blob/main/chapter03/figures/natural_spline_result_2.png?raw=true\" width=\"700\"/>"
   ]
  },
  {
   "cell_type": "markdown",
   "id": "448058e2",
   "metadata": {},
   "source": [
    "### Clamped Cubic Spline"
   ]
  },
  {
   "cell_type": "markdown",
   "id": "377a71a5",
   "metadata": {},
   "source": [
    "<img src=\"https://github.com/dw-shin/numerical_analysis/blob/main/chapter03/figures/clamped_cubic.png?raw=true\" width=\"900\"/>"
   ]
  },
  {
   "cell_type": "markdown",
   "id": "5bc1ab12",
   "metadata": {},
   "source": [
    "### Q3: Complete the following code."
   ]
  },
  {
   "cell_type": "code",
   "execution_count": null,
   "id": "2fd33805",
   "metadata": {},
   "outputs": [],
   "source": [
    "def clamped_cubic_spline(n,x,fval,FPO,FPN):\n",
    "    a = fval\n",
    "    b = np.zeros(n)\n",
    "    c = np.zeros(n+1)\n",
    "    d = np.zeros(n)\n",
    "    h = np.zeros(n)\n",
    "    l = np.zeros(n+1)\n",
    "    mu = np.zeros(n)\n",
    "    z = np.zeros(n+1)\n",
    "    alpha = np.zeros(n+1)\n",
    "    # Step 1\n",
    "    for i in range(n):\n",
    "        \n",
    "    # Step 2\n",
    "    \n",
    "    # Step 3\n",
    "    for i in range(1,n):\n",
    "        \n",
    "    # Step 4\n",
    "    \n",
    "    # Step 5\n",
    "    for i in range(1,n):\n",
    "        \n",
    "    # Step 6\n",
    "    \n",
    "    # Step 7\n",
    "    for j in reversed(range(n)):\n",
    "        \n",
    "    return (a,b,c,d)"
   ]
  },
  {
   "cell_type": "markdown",
   "id": "1f92db02",
   "metadata": {},
   "source": [
    "### Example 4\n",
    "Example 2 used a natural spline and the data points $(0,1),\\ (1,e),\\ (2,e^2),$ and $(3,e^3)$ to form a new approximating function $S(x)$. Determine the clamped spline $s(x)$ that uses this data and the additional information that, since $f'(x) = e^x$, so $f'(x) = 1$ and $f'(e) = e^3$."
   ]
  },
  {
   "cell_type": "code",
   "execution_count": null,
   "id": "bfa2d2d2",
   "metadata": {},
   "outputs": [],
   "source": [
    "n = 3\n",
    "x = np.array([0,1,2,3])\n",
    "fval = np.exp(x)\n",
    "FPO = 1\n",
    "FPN = np.exp(3)"
   ]
  },
  {
   "cell_type": "code",
   "execution_count": null,
   "id": "c9751d82",
   "metadata": {},
   "outputs": [],
   "source": [
    "a,b,c,d = clamped_cubic_spline(n,x,fval,FPO,FPN)\n",
    "print('a = \\n', a)\n",
    "print('b = \\n', b)\n",
    "print('c = \\n', c)\n",
    "print('d = \\n', d)"
   ]
  },
  {
   "cell_type": "markdown",
   "id": "36611739",
   "metadata": {},
   "source": [
    "ans\n",
    "```\n",
    "a = \n",
    " [ 1.          2.71828183  7.3890561  20.08553692]\n",
    "b = \n",
    " [1.         2.71016299 7.32651634]\n",
    "c = \n",
    " [0.4446825  1.26548049 3.35087286 9.40814772]\n",
    "d = \n",
    " [0.27359933 0.69513079 2.01909162]\n",
    " ```"
   ]
  },
  {
   "cell_type": "code",
   "execution_count": null,
   "id": "e78c88ff",
   "metadata": {},
   "outputs": [],
   "source": [
    "nodes = np.linspace(0,3)\n",
    "fvalc = evaluate_cubic_spline(nodes,x,a,b,c,d)\n",
    "plt.figure(figsize=(12,10))\n",
    "plt.plot(nodes,np.exp(nodes),'b-',linewidth=2,label = '$y = e^x$')\n",
    "plt.plot(nodes,fvalc,'r--',linewidth=3,label = 'Clamped cubic spline')\n",
    "plt.plot(x,np.exp(x),'o')\n",
    "plt.legend()\n",
    "plt.title('Clamped Cubic Spline with n = {}'.format(n))"
   ]
  },
  {
   "cell_type": "markdown",
   "id": "a9b93778",
   "metadata": {},
   "source": [
    "ans\n",
    "```\n",
    "Text(0.5, 1.0, 'Clamped Cubic Spline with n = 3')\n",
    "```\n",
    "<img src=\"https://github.com/dw-shin/numerical_analysis/blob/main/chapter03/figures/clamped_spline_result.png?raw=true\" width=\"700\"/>"
   ]
  },
  {
   "cell_type": "code",
   "execution_count": null,
   "id": "7fc8acfd",
   "metadata": {},
   "outputs": [],
   "source": [
    "nodes = np.linspace(0,3)\n",
    "fvalc = evaluate_cubic_spline(nodes,x,a,b,c,d)\n",
    "an,bn,cn,dn = natural_cubic_spline(n,x,fval)\n",
    "fvaln = evaluate_cubic_spline(nodes,x,an,bn,cn,dn)\n",
    "plt.figure(figsize=(12,10))\n",
    "plt.plot(nodes,np.exp(nodes),'b-',linewidth=2,label = '$y = e^x$')\n",
    "plt.plot(nodes,fvalc,'r--',linewidth=3,label = 'Clamped cubic spline')\n",
    "plt.plot(nodes,fvaln,'y-',linewidth=2,label = 'Natural cubic spline')\n",
    "plt.plot(x,np.exp(x),'o')\n",
    "plt.legend()\n",
    "plt.title('Natural and Clamped Cubic Spline with n = {}'.format(n))"
   ]
  },
  {
   "cell_type": "markdown",
   "id": "e3f90c57",
   "metadata": {},
   "source": [
    "ans\n",
    "```\n",
    "Text(0.5, 1.0, 'Natural and Clamped Cubic Spline with n = 3')\n",
    "```\n",
    "<img src=\"https://github.com/dw-shin/numerical_analysis/blob/main/chapter03/figures/clamped_spline_result_2.png?raw=true\" width=\"700\"/>"
   ]
  },
  {
   "cell_type": "code",
   "execution_count": null,
   "id": "d716862c",
   "metadata": {},
   "outputs": [],
   "source": []
  }
 ],
 "metadata": {
  "kernelspec": {
   "display_name": "Python 3",
   "language": "python",
   "name": "python3"
  },
  "language_info": {
   "codemirror_mode": {
    "name": "ipython",
    "version": 3
   },
   "file_extension": ".py",
   "mimetype": "text/x-python",
   "name": "python",
   "nbconvert_exporter": "python",
   "pygments_lexer": "ipython3",
   "version": "3.9.5"
  }
 },
 "nbformat": 4,
 "nbformat_minor": 5
}
